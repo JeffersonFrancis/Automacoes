{
 "cells": [
  {
   "cell_type": "markdown",
   "id": "90d8db3b",
   "metadata": {},
   "source": [
    "# Matar as sessões dos usuários necessários"
   ]
  },
  {
   "cell_type": "code",
   "execution_count": 1,
   "id": "82c2894e",
   "metadata": {},
   "outputs": [],
   "source": [
    "#declarando as bibliotecas"
   ]
  },
  {
   "cell_type": "code",
   "execution_count": 2,
   "id": "6afc5b4b",
   "metadata": {},
   "outputs": [],
   "source": [
    "import mysql.connector #conectar no banco de dados\n",
    "import pymysql.cursors #executar a query"
   ]
  },
  {
   "cell_type": "code",
   "execution_count": 3,
   "id": "4506937b",
   "metadata": {},
   "outputs": [],
   "source": [
    "#criando as variaveis de conexao\n",
    "MYSQL_USER=\"usr_terminator\"\n",
    "MYSQL_PASSWORD=\"RVT^A6srzVns\"\n",
    "MYSQL_HOSTNAME=\"picpay-prod-credit.cevc2nm8g03p.us-east-1.rds.amazonaws.com\"\n",
    "MYSQL_DATABASE=\"credit\"\n",
    "MYSQL_PORT=3306"
   ]
  },
  {
   "cell_type": "code",
   "execution_count": 4,
   "id": "d154cef1",
   "metadata": {},
   "outputs": [],
   "source": [
    "#abrindo uma conexao com o banco de dados\n",
    "connection=mysql.connector.connect(host=MYSQL_HOSTNAME,\n",
    "                        user=MYSQL_USER,\n",
    "                        password=MYSQL_PASSWORD)\n"
   ]
  },
  {
   "cell_type": "code",
   "execution_count": 5,
   "id": "7c96b7f7",
   "metadata": {},
   "outputs": [],
   "source": [
    "#salvando o script da consulta na variavel\n",
    "SQL=\"select distinct(blocking_pid) from sys.x$innodb_lock_waits;\""
   ]
  },
  {
   "cell_type": "code",
   "execution_count": 6,
   "id": "3494ba6d",
   "metadata": {
    "scrolled": true
   },
   "outputs": [],
   "source": [
    "cursor=connection.cursor() #definicao do cursor para utilizar a conexao\n",
    "cursor.execute(SQL) #executando a consulta\n",
    "result=cursor.fetchall() #salvando o resultado da consulta na variavel result. fetchall pega todas as linhas do cursor"
   ]
  },
  {
   "cell_type": "code",
   "execution_count": 34,
   "id": "e8bd7ed6",
   "metadata": {},
   "outputs": [
    {
     "name": "stdout",
     "output_type": "stream",
     "text": [
      "call mysql.rds_kill(2914509);\n"
     ]
    }
   ],
   "source": [
    "for row in result:\n",
    "  kill = '''call mysql.rds_kill'''+ str(row)[:-2] + \");\" #cria o arquivo de insert\n",
    "  cursor=connection.cursor() #definicao do cursor para utilizar a conexao\n",
    "  cursor.execute(kill) #executando o kill\n",
    "  cursor.close()"
   ]
  }
 ],
 "metadata": {
  "kernelspec": {
   "display_name": "Python 3",
   "language": "python",
   "name": "python3"
  },
  "language_info": {
   "codemirror_mode": {
    "name": "ipython",
    "version": 3
   },
   "file_extension": ".py",
   "mimetype": "text/x-python",
   "name": "python",
   "nbconvert_exporter": "python",
   "pygments_lexer": "ipython3",
   "version": "3.8.8"
  }
 },
 "nbformat": 4,
 "nbformat_minor": 5
}
