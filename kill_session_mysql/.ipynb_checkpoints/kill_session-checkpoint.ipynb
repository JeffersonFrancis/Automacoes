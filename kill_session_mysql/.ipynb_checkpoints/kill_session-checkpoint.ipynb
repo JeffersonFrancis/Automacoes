{
 "cells": [
  {
   "cell_type": "markdown",
   "id": "90d8db3b",
   "metadata": {},
   "source": [
    "# Matar as sessões dos usuários necessários"
   ]
  },
  {
   "cell_type": "code",
   "execution_count": 8,
   "id": "82c2894e",
   "metadata": {},
   "outputs": [],
   "source": [
    "#declarando as bibliotecas"
   ]
  },
  {
   "cell_type": "code",
   "execution_count": 9,
   "id": "6afc5b4b",
   "metadata": {},
   "outputs": [],
   "source": [
    "import mysql.connector #conectar no banco de dados\n",
    "import pymysql.cursors #executar a query"
   ]
  },
  {
   "cell_type": "code",
   "execution_count": 10,
   "id": "4506937b",
   "metadata": {},
   "outputs": [],
   "source": [
    "#criando as variaveis de conexao\n",
    "MYSQL_USER=\"usr_terminator\"\n",
    "MYSQL_PASSWORD=\"RVT^A6srzVns\"\n",
    "MYSQL_HOSTNAME=\"prod-picpaydb-10-1.cbiwz6ffnqsq.us-east-1.rds.amazonaws.com\"\n",
    "MYSQL_DATABASE=\"picpaydb\"\n",
    "MYSQL_PORT=3306"
   ]
  },
  {
   "cell_type": "code",
   "execution_count": 11,
   "id": "d154cef1",
   "metadata": {},
   "outputs": [],
   "source": [
    "#abrindo uma conexao com o banco de dados\n",
    "connection=mysql.connector.connect(host=MYSQL_HOSTNAME,\n",
    "                        user=MYSQL_USER,\n",
    "                        password=MYSQL_PASSWORD)\n"
   ]
  },
  {
   "cell_type": "code",
   "execution_count": 12,
   "id": "7c96b7f7",
   "metadata": {},
   "outputs": [],
   "source": [
    "#salvando o script da consulta na variavel\n",
    "SQL=\"select id from information_schema.processlist where command ='sleep' and user = 'person' and time > 60;\""
   ]
  },
  {
   "cell_type": "code",
   "execution_count": 13,
   "id": "3494ba6d",
   "metadata": {},
   "outputs": [],
   "source": [
    "cursor=connection.cursor() #definicao do cursor para utilizar a conexao\n",
    "cursor.execute(SQL) #executando a consulta\n",
    "result=cursor.fetchall() #salvando o resultado da consulta na variavel result. fetchall pega todas as linhas do cursor"
   ]
  },
  {
   "cell_type": "code",
   "execution_count": 14,
   "id": "e8bd7ed6",
   "metadata": {},
   "outputs": [],
   "source": [
    "for row in result:\n",
    "  kill = '''call mysql.rds_kill({})'''.format(row[-1])+\";\" #cria o arquivo de insert\n",
    "  cursor=connection.cursor() #definicao do cursor para utilizar a conexao\n",
    "  cursor.execute(kill) #executando o kill\n",
    "  cursor.close()"
   ]
  },
  {
   "cell_type": "code",
   "execution_count": null,
   "id": "dd3981ec",
   "metadata": {},
   "outputs": [],
   "source": []
  }
 ],
 "metadata": {
  "kernelspec": {
   "display_name": "Python 3",
   "language": "python",
   "name": "python3"
  },
  "language_info": {
   "codemirror_mode": {
    "name": "ipython",
    "version": 3
   },
   "file_extension": ".py",
   "mimetype": "text/x-python",
   "name": "python",
   "nbconvert_exporter": "python",
   "pygments_lexer": "ipython3",
   "version": "3.8.8"
  }
 },
 "nbformat": 4,
 "nbformat_minor": 5
}
